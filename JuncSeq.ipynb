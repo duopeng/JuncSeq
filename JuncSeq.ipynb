{
 "cells": [
  {
   "cell_type": "code",
   "execution_count": 29,
   "id": "ed2efee3-3a69-42d0-9575-a5edac3c3e01",
   "metadata": {},
   "outputs": [],
   "source": [
    "import processGFF3 as pg\n",
    "import processFa as pf\n",
    "from Bio.SeqFeature import SeqFeature, FeatureLocation, ExactPosition, SimpleLocation\n",
    "from Bio.SeqRecord import SeqRecord\n",
    "import utils as ut\n",
    "import subprocess"
   ]
  },
  {
   "attachments": {},
   "cell_type": "markdown",
   "id": "e32a14f2-589e-4c89-9c3c-e27005d9210e",
   "metadata": {},
   "source": [
    "## Set up input and outputs"
   ]
  },
  {
   "cell_type": "code",
   "execution_count": 30,
   "id": "a0c17d09",
   "metadata": {},
   "outputs": [],
   "source": [
    "GenomeBuild = \"GRCh38\" # Human\n",
    "#GenomeBuild = \"GRCm39\" # Mouse\n",
    "#GenomeBuild = \"GRCz11\" # Zebrafish\n",
    "\n",
    "spp = f\"Homo_sapiens.{GenomeBuild}\" # Human\n",
    "# Spp = f\"Mus_musculus.{spp}\" # Mouse\n",
    "# Spp = f\"Danio_rerio.{spp}\" # Zebrafish\n",
    "\n",
    "gff3_path = f\"{spp}.107.gff3.gz\"\n",
    "fasta_path = f\"{spp}.dna_sm.primary_assembly.fa.gz\"\n",
    "out_EI_fa_path = f\"Exon_intron_junc_seqs.{GenomeBuild}.fa\"\n",
    "out_IE_fa_path = f\"Intron_exon_junc_seqs.{GenomeBuild}.fa\"\n",
    "out_EI_weblogo_path = f\"Exon_intron_junc_seqs.{GenomeBuild}.weblogo.eps\"\n",
    "out_IE_weblogo_path = f\"Intron_exon_junc_seqs.{GenomeBuild}.weblogo.eps\""
   ]
  },
  {
   "cell_type": "markdown",
   "id": "9e3163d6-a948-4c80-9925-d78be4394d8b",
   "metadata": {},
   "source": [
    "## Loade and parse GFF3"
   ]
  },
  {
   "cell_type": "code",
   "execution_count": 31,
   "id": "d1e8a7df-1e66-48f7-9c96-29e4ff329571",
   "metadata": {},
   "outputs": [
    {
     "name": "stdout",
     "output_type": "stream",
     "text": [
      "-processing ENST IDs\n",
      "-processing exons\n",
      "-processing cds\n"
     ]
    }
   ],
   "source": [
    "ENST_info = pg.parse_gff3(gff3_path)"
   ]
  },
  {
   "cell_type": "markdown",
   "id": "936f1e0a-f051-4ea7-ac7c-2412431f7ae9",
   "metadata": {},
   "source": [
    "## Load and parse genome fasta"
   ]
  },
  {
   "cell_type": "code",
   "execution_count": null,
   "id": "5f12da72-0b14-486b-ba83-54a7a5b5b908",
   "metadata": {},
   "outputs": [
    {
     "name": "stdout",
     "output_type": "stream",
     "text": [
      "-loading genome sequence...\n"
     ]
    }
   ],
   "source": [
    "print(\"-loading genome sequence...\")\n",
    "genome_seqs = pf.parse_fasta(fasta_path)"
   ]
  },
  {
   "attachments": {},
   "cell_type": "markdown",
   "id": "c84b8fda-2ef2-4080-8230-cf5123ee16c9",
   "metadata": {},
   "source": [
    "## Extract exon junctions"
   ]
  },
  {
   "cell_type": "code",
   "execution_count": null,
   "id": "29666e4f-b63e-4a71-bd76-ea1df112b183",
   "metadata": {},
   "outputs": [
    {
     "name": "stdout",
     "output_type": "stream",
     "text": [
      "5000  ENSTs processed\n",
      "10000  ENSTs processed\n",
      "15000  ENSTs processed\n",
      "20000  ENSTs processed\n",
      "25000  ENSTs processed\n",
      "30000  ENSTs processed\n",
      "35000  ENSTs processed\n",
      "40000  ENSTs processed\n",
      "45000  ENSTs processed\n",
      "50000  ENSTs processed\n",
      "55000  ENSTs processed\n"
     ]
    }
   ],
   "source": [
    "counter = 0\n",
    "with open(out_EI_path, \"w\") as ei, open(out_IE_path, \"w\") as ie:\n",
    "\n",
    "    for ENST in ENST_info.keys():\n",
    "        features = ENST_info[ENST].features\n",
    "        exons = [i for i in features if i.type==\"exon\"]\n",
    "        sorted_exons = ut.sort_exons(exons)\n",
    "\n",
    "        EI_junc_coord = ut.extract_exon_intron_junc_coord(sorted_exons)\n",
    "        IE_junc_coord = ut.extract_intron_exon_junc_coord(sorted_exons)\n",
    "        \n",
    "        EI_junc_seqs = ut.extract_junc_seq(EI_junc_coord, genome_seqs, left_padding = 20, right_padding = 20)   \n",
    "        IE_junc_seqs = ut.extract_junc_seq(IE_junc_coord, genome_seqs, left_padding = 20, right_padding = 20)\n",
    "\n",
    "        for index, seq in enumerate(EI_junc_seqs):\n",
    "            ei.write(f\">{ENST}_{index}\\n{str(seq)}\\n\")\n",
    "\n",
    "        for index, seq in enumerate(IE_junc_seqs):\n",
    "            ie.write(f\">{ENST}_{index}\\n{str(seq)}\\n\")\n",
    "\n",
    "        counter += 1\n",
    "        if counter % 5000 == 0:\n",
    "            print(counter, \" ENSTs processed\")"
   ]
  },
  {
   "cell_type": "code",
   "execution_count": null,
   "id": "5ba76f11",
   "metadata": {},
   "outputs": [
    {
     "data": {
      "text/plain": [
       "CompletedProcess(args=['weblogo', '-f', 'Intron_exon_junc_seqs.GRCz11.fa', '-D', 'fasta', '-F', 'eps', '-o', 'Intron_exon_junc_seqs.GRCz11.weblogo.eps'], returncode=0)"
      ]
     },
     "execution_count": 22,
     "metadata": {},
     "output_type": "execute_result"
    }
   ],
   "source": [
    "subprocess.run([\"weblogo\", \"-f\", out_EI_fa_path, \"-D\", \"fasta\", \"-F\", \"eps\",\"-o\", out_EI_weblogo_path])\n",
    "subprocess.run([\"weblogo\", \"-f\", out_IE_fa_path, \"-D\", \"fasta\", \"-F\", \"eps\",\"-o\", out_IE_weblogo_path])"
   ]
  },
  {
   "cell_type": "code",
   "execution_count": null,
   "id": "b438abec-0715-409c-8992-68e86c53a356",
   "metadata": {},
   "outputs": [],
   "source": []
  },
  {
   "cell_type": "code",
   "execution_count": null,
   "id": "eb9410e0-dac5-4735-8a8a-f7a3f286a218",
   "metadata": {},
   "outputs": [],
   "source": []
  },
  {
   "cell_type": "code",
   "execution_count": null,
   "id": "8227ba0b-6948-4f5a-9dff-65db83f3c8fc",
   "metadata": {},
   "outputs": [],
   "source": []
  }
 ],
 "metadata": {
  "kernelspec": {
   "display_name": "JuncSeq",
   "language": "python",
   "name": "python3"
  },
  "language_info": {
   "codemirror_mode": {
    "name": "ipython",
    "version": 3
   },
   "file_extension": ".py",
   "mimetype": "text/x-python",
   "name": "python",
   "nbconvert_exporter": "python",
   "pygments_lexer": "ipython3",
   "version": "3.10.9"
  },
  "vscode": {
   "interpreter": {
    "hash": "a8022f85bb226bc28d8d3c540c2c0150bcd15769700c33de376743587ccfb645"
   }
  }
 },
 "nbformat": 4,
 "nbformat_minor": 5
}
